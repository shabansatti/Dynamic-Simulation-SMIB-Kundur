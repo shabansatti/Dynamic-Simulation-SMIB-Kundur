{
  "nbformat": 4,
  "nbformat_minor": 0,
  "metadata": {
    "colab": {
      "provenance": [],
      "authorship_tag": "ABX9TyObaUdnDHYW9G/tHXlWSjfk",
      "include_colab_link": true
    },
    "kernelspec": {
      "name": "python3",
      "display_name": "Python 3"
    },
    "language_info": {
      "name": "python"
    }
  },
  "cells": [
    {
      "cell_type": "markdown",
      "metadata": {
        "id": "view-in-github",
        "colab_type": "text"
      },
      "source": [
        "<a href=\"https://colab.research.google.com/github/shabansatti/Dynamic-Simulation-SMIB-Kundur/blob/main/Dynamic_Simulation_sm_ib_kundur.ipynb\" target=\"_parent\"><img src=\"https://colab.research.google.com/assets/colab-badge.svg\" alt=\"Open In Colab\"/></a>"
      ]
    },
    {
      "cell_type": "code",
      "execution_count": 1,
      "metadata": {
        "id": "FxnWdV6CwGbq",
        "colab": {
          "base_uri": "https://localhost:8080/"
        },
        "outputId": "5e90bdae-ed88-41b8-ebb2-d3c0b9c3b6f4"
      },
      "outputs": [
        {
          "output_type": "stream",
          "name": "stdout",
          "text": [
            "Collecting git+https://github.com/hallvar-h/dynpssimpy\n",
            "  Cloning https://github.com/hallvar-h/dynpssimpy to /tmp/pip-req-build-rzq7tq37\n",
            "  Running command git clone --filter=blob:none --quiet https://github.com/hallvar-h/dynpssimpy /tmp/pip-req-build-rzq7tq37\n",
            "  Resolved https://github.com/hallvar-h/dynpssimpy to commit 31f35a9fe26e137c6613bf8ea90d57e6b184b503\n",
            "  Installing build dependencies ... \u001b[?25l\u001b[?25hdone\n",
            "  Getting requirements to build wheel ... \u001b[?25l\u001b[?25hdone\n",
            "  Installing backend dependencies ... \u001b[?25l\u001b[?25hdone\n",
            "  Preparing metadata (pyproject.toml) ... \u001b[?25l\u001b[?25hdone\n",
            "Requirement already satisfied: numpy in /usr/local/lib/python3.10/dist-packages (from dynpssimpy==0.2.0) (1.22.4)\n",
            "Requirement already satisfied: scipy in /usr/local/lib/python3.10/dist-packages (from dynpssimpy==0.2.0) (1.10.1)\n",
            "Requirement already satisfied: matplotlib in /usr/local/lib/python3.10/dist-packages (from dynpssimpy==0.2.0) (3.7.1)\n",
            "Requirement already satisfied: pandas in /usr/local/lib/python3.10/dist-packages (from dynpssimpy==0.2.0) (1.5.3)\n",
            "Requirement already satisfied: contourpy>=1.0.1 in /usr/local/lib/python3.10/dist-packages (from matplotlib->dynpssimpy==0.2.0) (1.1.0)\n",
            "Requirement already satisfied: cycler>=0.10 in /usr/local/lib/python3.10/dist-packages (from matplotlib->dynpssimpy==0.2.0) (0.11.0)\n",
            "Requirement already satisfied: fonttools>=4.22.0 in /usr/local/lib/python3.10/dist-packages (from matplotlib->dynpssimpy==0.2.0) (4.40.0)\n",
            "Requirement already satisfied: kiwisolver>=1.0.1 in /usr/local/lib/python3.10/dist-packages (from matplotlib->dynpssimpy==0.2.0) (1.4.4)\n",
            "Requirement already satisfied: packaging>=20.0 in /usr/local/lib/python3.10/dist-packages (from matplotlib->dynpssimpy==0.2.0) (23.1)\n",
            "Requirement already satisfied: pillow>=6.2.0 in /usr/local/lib/python3.10/dist-packages (from matplotlib->dynpssimpy==0.2.0) (8.4.0)\n",
            "Requirement already satisfied: pyparsing>=2.3.1 in /usr/local/lib/python3.10/dist-packages (from matplotlib->dynpssimpy==0.2.0) (3.1.0)\n",
            "Requirement already satisfied: python-dateutil>=2.7 in /usr/local/lib/python3.10/dist-packages (from matplotlib->dynpssimpy==0.2.0) (2.8.2)\n",
            "Requirement already satisfied: pytz>=2020.1 in /usr/local/lib/python3.10/dist-packages (from pandas->dynpssimpy==0.2.0) (2022.7.1)\n",
            "Requirement already satisfied: six>=1.5 in /usr/local/lib/python3.10/dist-packages (from python-dateutil>=2.7->matplotlib->dynpssimpy==0.2.0) (1.16.0)\n",
            "Building wheels for collected packages: dynpssimpy\n",
            "  Building wheel for dynpssimpy (pyproject.toml) ... \u001b[?25l\u001b[?25hdone\n",
            "  Created wheel for dynpssimpy: filename=dynpssimpy-0.2.0-py3-none-any.whl size=52018 sha256=c8ea23a6184beb5fab4962f2e6ba3eda182dc5f8b94efbe716364bf8bb752657\n",
            "  Stored in directory: /tmp/pip-ephem-wheel-cache-4scmghzy/wheels/a2/3c/3b/d3502fa307d2aad42e905c31d080ac19e3839af0be9fa90140\n",
            "Successfully built dynpssimpy\n",
            "Installing collected packages: dynpssimpy\n",
            "Successfully installed dynpssimpy-0.2.0\n"
          ]
        }
      ],
      "source": [
        "!pip install git+https://github.com/hallvar-h/dynpssimpy"
      ]
    },
    {
      "cell_type": "code",
      "source": [
        "from dynpssimpy import dynamic\n",
        "import dynpssimpy.ps_models.sm_ib_kundur as PS\n",
        "import dynpssimpy.dynamic as dyn\n",
        "import dynpssimpy.solvers as solver\n",
        "from collections import defaultdict\n",
        "import matplotlib.pyplot as plt\n",
        "import time\n",
        "import numpy as np"
      ],
      "metadata": {
        "id": "TRh141l013Eh"
      },
      "execution_count": 2,
      "outputs": []
    },
    {
      "cell_type": "code",
      "source": [
        "# Step-1: Loading the Power System Model\n",
        "model=PS.load();\n",
        "\n",
        "# Step-2: Instantiating the PowerSystemModel\n",
        "smib=dyn.PowerSystemModel(model);"
      ],
      "metadata": {
        "id": "pUOGMjAR2L3q"
      },
      "execution_count": 3,
      "outputs": []
    },
    {
      "cell_type": "code",
      "source": [
        "smib.setup_ready = False;\n",
        "smib.setup();\n",
        "ybus_lf = smib.build_y_bus_lf();\n",
        "print(\"Load Flow Admittance Matrix: \\n\", ybus_lf)\n",
        "print(\"Dimensions Admittance Matrix: \\n\", np.shape(ybus_lf))"
      ],
      "metadata": {
        "colab": {
          "base_uri": "https://localhost:8080/"
        },
        "id": "-1yST7guXoEm",
        "outputId": "35febb66-15a6-420b-83eb-eef9ad5c0168"
      },
      "execution_count": 4,
      "outputs": [
        {
          "output_type": "stream",
          "name": "stdout",
          "text": [
            "Load Flow Admittance Matrix: \n",
            " [[0.-1.53846154j 0.+1.53846154j]\n",
            " [0.+1.53846154j 0.-1.53846154j]]\n",
            "Dimensions Admittance Matrix: \n",
            " (2, 2)\n"
          ]
        }
      ]
    },
    {
      "cell_type": "code",
      "source": [
        "from tabulate import tabulate\n",
        "smib.power_flow();\n",
        "print (\"Power Flow Ready: \\n\", smib.power_flow_ready)\n",
        "print (\"Power Flow Solution\")\n",
        "print (\"Voltage: \", np.absolute(smib.v0));\n",
        "print (\"Angle: \", np.angle(smib.v0))"
      ],
      "metadata": {
        "colab": {
          "base_uri": "https://localhost:8080/"
        },
        "id": "wfRY8iSFab60",
        "outputId": "b7f01dbc-a1f0-480b-b6d9-a4925d8d68f2"
      },
      "execution_count": 5,
      "outputs": [
        {
          "output_type": "stream",
          "name": "stdout",
          "text": [
            "Power Flow Ready: \n",
            " True\n",
            "Power Flow Solution\n",
            "Voltage:  [1.    0.995]\n",
            "Angle:  [0.63513303 0.        ]\n"
          ]
        }
      ]
    },
    {
      "cell_type": "code",
      "source": [
        "smib.init_dyn_sim();\n",
        "print (\"Reduced Admittance Matrix: \\n\", smib.y_bus_red_full)\n",
        "print (\"Dimesions of Red Admittance Matrix: \\n\", np.shape(smib.y_bus_red_full))"
      ],
      "metadata": {
        "colab": {
          "base_uri": "https://localhost:8080/"
        },
        "id": "qmC-6zDgdttu",
        "outputId": "b474bb01-b3f5-492e-f4f8-f39f42121b90"
      },
      "execution_count": 6,
      "outputs": [
        {
          "output_type": "stream",
          "name": "stdout",
          "text": [
            "Reduced Admittance Matrix: \n",
            " [[0. -5.88628763j 0. +1.53846154j]\n",
            " [0. +1.53846154j 0.-45.01672241j]]\n",
            "Dimesions of Red Admittance Matrix: \n",
            " (2, 2)\n"
          ]
        }
      ]
    },
    {
      "cell_type": "code",
      "source": [
        "time_step   =   0.001;\n",
        "start_time  =   0;\n",
        "end_time    =   5;\n",
        "result_dict =   defaultdict(list)\n",
        "smib_states =   smib.x_0;\n",
        "fault       =   0;\n",
        "gen_bus_idx = smib.gen['GEN'].bus_idx_red['terminal'][0]\n",
        "\n",
        "print (\"States Descriptor: \\n\", smib.state_desc);\n",
        "print (\"Initial States: \\n\", smib_states)\n",
        "print ('No. of States: ', np.shape(smib_states))\n",
        "print (gen_bus_idx);"
      ],
      "metadata": {
        "colab": {
          "base_uri": "https://localhost:8080/"
        },
        "id": "uaBu7Dpkf9es",
        "outputId": "8e2664e4-2822-497f-8ea3-ac24f817ad6e"
      },
      "execution_count": 7,
      "outputs": [
        {
          "output_type": "stream",
          "name": "stdout",
          "text": [
            "States Descriptor: \n",
            " [['GOV1/LeadLag' 'x']\n",
            " ['GOV1/TimeConstantLims' 'x']\n",
            " ['AVR1/LeadLag' 'x']\n",
            " ['AVR1/TimeConstantLims' 'x']\n",
            " ['G1' 'speed']\n",
            " ['G1' 'angle']\n",
            " ['G1' 'e_q_t']\n",
            " ['G1' 'e_d_t']\n",
            " ['G1' 'e_q_st']\n",
            " ['G1' 'e_d_st']\n",
            " ['IB' 'speed']\n",
            " ['IB' 'angle']\n",
            " ['IB' 'e_q_t']\n",
            " ['IB' 'e_d_t']\n",
            " ['IB' 'e_q_st']\n",
            " ['IB' 'e_d_st']]\n",
            "Initial States: \n",
            " [ 0.          0.90818182 -0.13572889  2.26214819  0.          1.43948845\n",
            "  0.95356011  0.45433292  0.89289708  0.62624268  0.         -0.15555948\n",
            "  0.99589148 -0.09848995  0.99288005 -0.13446019]\n",
            "No. of States:  (16,)\n",
            "0\n"
          ]
        }
      ]
    },
    {
      "cell_type": "code",
      "source": [
        "t       = start_time;\n",
        "states  = smib_states;\n",
        "\n",
        "while t < end_time:\n",
        "\n",
        "  sol = solver.ModifiedEulerDAE(smib.state_derivatives, smib.solve_algebraic, t, states, end_time, max_step = time_step);\n",
        "  sol.step();\n",
        "  states = sol.y;\n",
        "  t      = sol.t;\n",
        "  if (t>0.1 and t<0.15):\n",
        "    smib.y_bus_red_mod [gen_bus_idx,gen_bus_idx]    = 1e10 * fault;\n",
        "  else:\n",
        "    smib.y_bus_red_mod [gen_bus_idx,gen_bus_idx]    = 0;\n",
        "\n",
        "  result_dict['Global', 't'].append(sol.t)\n",
        "  [result_dict[tuple(desc)].append(state) for desc, state in zip(smib.state_desc, states)]\n"
      ],
      "metadata": {
        "id": "0v26CRL9h-fo"
      },
      "execution_count": 8,
      "outputs": []
    },
    {
      "cell_type": "code",
      "source": [
        "plt.figure()\n",
        "state1 = 'speed';\n",
        "state2 = 'angle';\n",
        "\n",
        "plt.plot(result_dict[('Global', 't')], result_dict[('G1', state1)])\n",
        "plt.title(\"Speed\")\n",
        "plt.show()\n",
        "plt.plot(result_dict[('Global', 't')], result_dict[('G1', state2)])\n",
        "plt.title(\"Angle\")\n",
        "plt.show()"
      ],
      "metadata": {
        "colab": {
          "base_uri": "https://localhost:8080/",
          "height": 887
        },
        "id": "WZDV-cWEphBm",
        "outputId": "09eebc45-c15b-46b0-8263-1c53be7c1d29"
      },
      "execution_count": 9,
      "outputs": [
        {
          "output_type": "display_data",
          "data": {
            "text/plain": [
              "<Figure size 640x480 with 1 Axes>"
            ],
            "image/png": "[encoded data removed]"
          },
          "metadata": {}
        },
        {
          "output_type": "display_data",
          "data": {
            "text/plain": [
              "<Figure size 640x480 with 1 Axes>"
            ],
            "image/png": "[encoded data removed]"
          },
          "metadata": {}
        }
      ]
    }
  ]
}